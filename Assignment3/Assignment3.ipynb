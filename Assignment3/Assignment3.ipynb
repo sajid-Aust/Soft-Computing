{
  "nbformat": 4,
  "nbformat_minor": 0,
  "metadata": {
    "colab": {
      "name": "Assignment_3.ipynb",
      "provenance": [],
      "collapsed_sections": []
    },
    "kernelspec": {
      "name": "python3",
      "display_name": "Python 3"
    },
    "language_info": {
      "name": "python"
    },
    "accelerator": "GPU"
  },
  "cells": [
    {
      "cell_type": "code",
      "metadata": {
        "colab": {
          "base_uri": "https://localhost:8080/"
        },
        "id": "0j1pSQ6Bbkel",
        "outputId": "78f9c998-0330-405c-c12a-c4dbd95975de"
      },
      "source": [
        "import pandas as pd\n",
        "import seaborn as sns\n",
        "import matplotlib.pyplot as plt\n",
        "import re\n",
        "import numpy as np\n",
        "from sklearn.preprocessing import LabelEncoder\n",
        "from sklearn.model_selection import train_test_split\n",
        "from sklearn.metrics import accuracy_score,precision_score,recall_score,f1_score,roc_auc_score\n",
        "from sklearn.metrics import confusion_matrix, classification_report\n",
        "import torch\n",
        "import torch.nn as nn\n",
        "from torch.utils.data import DataLoader\n",
        "import torch.utils.data as data\n",
        "import torch.nn.functional as F\n",
        "\n",
        "import nltk.corpus\n",
        "nltk.download('stopwords')\n",
        "from nltk.corpus import stopwords\n",
        "\n",
        "import nltk \n",
        "nltk.download('punkt')"
      ],
      "execution_count": null,
      "outputs": [
        {
          "output_type": "stream",
          "name": "stdout",
          "text": [
            "[nltk_data] Downloading package stopwords to /root/nltk_data...\n",
            "[nltk_data]   Package stopwords is already up-to-date!\n",
            "[nltk_data] Downloading package punkt to /root/nltk_data...\n",
            "[nltk_data]   Package punkt is already up-to-date!\n"
          ]
        },
        {
          "output_type": "execute_result",
          "data": {
            "text/plain": [
              "True"
            ]
          },
          "metadata": {},
          "execution_count": 265
        }
      ]
    },
    {
      "cell_type": "code",
      "metadata": {
        "colab": {
          "base_uri": "https://localhost:8080/",
          "height": 204
        },
        "id": "U0CVmslyzqbe",
        "outputId": "b0b89646-6bbe-4323-ec51-bc7d1c60d5b8"
      },
      "source": [
        "df=pd.read_csv('Dataset 1.csv',encoding = \"ISO-8859-1\")\n",
        "df.head()"
      ],
      "execution_count": null,
      "outputs": [
        {
          "output_type": "execute_result",
          "data": {
            "text/html": [
              "<div>\n",
              "<style scoped>\n",
              "    .dataframe tbody tr th:only-of-type {\n",
              "        vertical-align: middle;\n",
              "    }\n",
              "\n",
              "    .dataframe tbody tr th {\n",
              "        vertical-align: top;\n",
              "    }\n",
              "\n",
              "    .dataframe thead th {\n",
              "        text-align: right;\n",
              "    }\n",
              "</style>\n",
              "<table border=\"1\" class=\"dataframe\">\n",
              "  <thead>\n",
              "    <tr style=\"text-align: right;\">\n",
              "      <th></th>\n",
              "      <th>message</th>\n",
              "      <th>label</th>\n",
              "    </tr>\n",
              "  </thead>\n",
              "  <tbody>\n",
              "    <tr>\n",
              "      <th>0</th>\n",
              "      <td>just had a real good moment. i missssssssss hi...</td>\n",
              "      <td>0</td>\n",
              "    </tr>\n",
              "    <tr>\n",
              "      <th>1</th>\n",
              "      <td>is reading manga  http://plurk.com/p/mzp1e</td>\n",
              "      <td>0</td>\n",
              "    </tr>\n",
              "    <tr>\n",
              "      <th>2</th>\n",
              "      <td>@comeagainjen http://twitpic.com/2y2lx - http:...</td>\n",
              "      <td>0</td>\n",
              "    </tr>\n",
              "    <tr>\n",
              "      <th>3</th>\n",
              "      <td>@lapcat Need to send 'em to my accountant tomo...</td>\n",
              "      <td>0</td>\n",
              "    </tr>\n",
              "    <tr>\n",
              "      <th>4</th>\n",
              "      <td>ADD ME ON MYSPACE!!!  myspace.com/LookThunder</td>\n",
              "      <td>0</td>\n",
              "    </tr>\n",
              "  </tbody>\n",
              "</table>\n",
              "</div>"
            ],
            "text/plain": [
              "                                             message  label\n",
              "0  just had a real good moment. i missssssssss hi...      0\n",
              "1         is reading manga  http://plurk.com/p/mzp1e      0\n",
              "2  @comeagainjen http://twitpic.com/2y2lx - http:...      0\n",
              "3  @lapcat Need to send 'em to my accountant tomo...      0\n",
              "4      ADD ME ON MYSPACE!!!  myspace.com/LookThunder      0"
            ]
          },
          "metadata": {},
          "execution_count": 295
        }
      ]
    },
    {
      "cell_type": "code",
      "metadata": {
        "colab": {
          "base_uri": "https://localhost:8080/"
        },
        "id": "A0X8V41bjRKs",
        "outputId": "2c53edc2-14e2-4560-c9ae-43a3d99d8881"
      },
      "source": [
        "def cleaning(text):\n",
        "  text=text.lower()\n",
        "  text=re.sub(r\"(@[A-Za-z0-9]+)|(@\\[A-Za-z0-9]+)|([^0-9A-Za-z \\t])|(\\w+:\\/\\/\\S+)|^rt|http.+?\", \" \", str(text))\n",
        "\n",
        "  stop = stopwords.words('english')\n",
        "  text = \" \".join([word for word in text.split() if word not in (stop)])\n",
        "\n",
        "  return text\n",
        "\n",
        "df['cleaned_text']=df['message'].apply(cleaning)\n",
        "\n",
        "indices=[500, 1000, 143]\n",
        "for i in indices:\n",
        "    print('Original Data--> ',df['message'][i])\n",
        "    print('Cleaned Data--> ',df['cleaned_text'][i])\n",
        "    print('label--> ',df['label'][i])\n",
        "    print('\\n')"
      ],
      "execution_count": null,
      "outputs": [
        {
          "output_type": "stream",
          "name": "stdout",
          "text": [
            "Original Data-->  @LLMMCC is she gonna drive a drill into my back ? \n",
            "Cleaned Data-->  gonna drive drill back\n",
            "label-->  0\n",
            "\n",
            "\n",
            "Original Data-->  Only 5mins till my baby's back from work \n",
            "Cleaned Data-->  5mins till baby back work\n",
            "label-->  0\n",
            "\n",
            "\n",
            "Original Data-->  @azcameron serious business \n",
            "Cleaned Data-->  serious business\n",
            "label-->  0\n",
            "\n",
            "\n"
          ]
        }
      ]
    },
    {
      "cell_type": "markdown",
      "metadata": {
        "id": "G2vFyqtcoMYg"
      },
      "source": [
        "### Removing Empty Data"
      ]
    },
    {
      "cell_type": "code",
      "metadata": {
        "colab": {
          "base_uri": "https://localhost:8080/"
        },
        "id": "Xj32cPbYnjJb",
        "outputId": "c83367d4-aa1a-4c76-83aa-8cbbced6e6fc"
      },
      "source": [
        "df['Length']=df['cleaned_text'].apply(lambda x: len(x.split()))\n",
        "print('Total Text: ',len(df))\n",
        "dataset=df.loc[df.Length>0]\n",
        "dataset=dataset.reset_index(drop=True)\n",
        "print('Removed Texts:  ',len(df)-len(dataset))\n",
        "print('Total Text:  ',len(dataset))"
      ],
      "execution_count": null,
      "outputs": [
        {
          "output_type": "stream",
          "name": "stdout",
          "text": [
            "Total Text:  10314\n",
            "Removed Texts:   34\n",
            "Total Text:   10280\n"
          ]
        }
      ]
    },
    {
      "cell_type": "code",
      "metadata": {
        "colab": {
          "base_uri": "https://localhost:8080/",
          "height": 349
        },
        "id": "kvkeAY84qYin",
        "outputId": "efefdeae-cae9-46dd-f21c-7818f60dded1"
      },
      "source": [
        "text_lengths=list(dataset['cleaned_text'].apply(lambda x:len(x.split())))\n",
        "frequencies=dict()\n",
        "for l in text_lengths:\n",
        "    frequencies[l]=frequencies.get(l,0)+1\n",
        "\n",
        "plt.bar(x=frequencies.keys(), height=frequencies.values());\n",
        "plt.xlabel('Length of Texts')\n",
        "plt.ylabel('Frequency')\n",
        "plt.title('Length-Frequency Distribution')\n",
        "plt.show()\n",
        "print(f\"Maximum Length of a text: {max(text_lengths)}\")\n",
        "print(f\"Average Length of a text: {round(np.mean(text_lengths),0)}\")"
      ],
      "execution_count": null,
      "outputs": [
        {
          "output_type": "display_data",
          "data": {
            "image/png": "[encoded data removed]",
            "text/plain": [
              "<Figure size 432x288 with 1 Axes>"
            ]
          },
          "metadata": {}
        },
        {
          "output_type": "stream",
          "name": "stdout",
          "text": [
            "Maximum Length of a text: 60\n",
            "Average Length of a text: 8.0\n"
          ]
        }
      ]
    },
    {
      "cell_type": "markdown",
      "metadata": {
        "id": "7R7igXuWq-aY"
      },
      "source": [
        "### Label Encoding and Dataset Splitting"
      ]
    },
    {
      "cell_type": "code",
      "metadata": {
        "id": "kSdZ_jcFq6Uo"
      },
      "source": [
        "def label_encoding(category):\n",
        "    le=LabelEncoder()\n",
        "    le.fit(category)\n",
        "    encoded_labels=np.array(le.transform(category))\n",
        "    \n",
        "    sample_ids=[100,4912, 8245]\n",
        "    for i in sample_ids:\n",
        "        print('{}--->{}'.format(category[i], encoded_labels[i]))\n",
        "    return encoded_labels"
      ],
      "execution_count": null,
      "outputs": []
    },
    {
      "cell_type": "code",
      "metadata": {
        "colab": {
          "base_uri": "https://localhost:8080/"
        },
        "id": "8_R2DoInrOUy",
        "outputId": "fbe548a4-210e-4d72-c656-0477aaa0e5b1"
      },
      "source": [
        "labels=label_encoding(dataset.label)"
      ],
      "execution_count": null,
      "outputs": [
        {
          "output_type": "stream",
          "name": "stdout",
          "text": [
            "0--->0\n",
            "0--->0\n",
            "1--->1\n"
          ]
        }
      ]
    },
    {
      "cell_type": "code",
      "metadata": {
        "id": "ul666nejrX5Y"
      },
      "source": [
        "def dataset_splitting(texts, category):\n",
        "    X,X_test,y,y_test=train_test_split(texts, category, train_size=0.8, test_size=0.2, random_state=0)\n",
        "    X_train, X_valid, y_train, y_valid=train_test_split(X,y,train_size=0.8, test_size=0.2, random_state=0)\n",
        "    \n",
        "    print('Dataset Distribution:\\n')\n",
        "    print('\\tSet\\t\\tData')\n",
        "    print(\"\\t========\\t======\")\n",
        "    print('\\tTotal:\\t\\t{}'.format(len(texts)))\n",
        "    print('\\tTrain:\\t\\t{}'.format(len(X_train)))\n",
        "    print('\\tTest:\\t\\t{}'.format(len(X_test)))\n",
        "    print('\\tValid:\\t\\t{}'.format(len(X_valid)))\n",
        "    \n",
        "    return X_train, X_valid, X_test, y_train, y_valid, y_test"
      ],
      "execution_count": null,
      "outputs": []
    },
    {
      "cell_type": "code",
      "metadata": {
        "colab": {
          "base_uri": "https://localhost:8080/"
        },
        "id": "2f4EELGXrmAT",
        "outputId": "1177cab8-4286-4db7-bd08-f829266e46b2"
      },
      "source": [
        "X_train,X_valid,X_test,y_train,y_valid,y_test=dataset_splitting(dataset.cleaned_text, labels)"
      ],
      "execution_count": null,
      "outputs": [
        {
          "output_type": "stream",
          "name": "stdout",
          "text": [
            "Dataset Distribution:\n",
            "\n",
            "\tSet\t\tData\n",
            "\t========\t======\n",
            "\tTotal:\t\t10280\n",
            "\tTrain:\t\t6579\n",
            "\tTest:\t\t2056\n",
            "\tValid:\t\t1645\n"
          ]
        }
      ]
    },
    {
      "cell_type": "markdown",
      "metadata": {
        "id": "UCpEPBqAr3z4"
      },
      "source": [
        "### Tokenization and Word Embedding"
      ]
    },
    {
      "cell_type": "code",
      "metadata": {
        "colab": {
          "base_uri": "https://localhost:8080/"
        },
        "id": "sU2XAdQIrxDq",
        "outputId": "149a7915-9da1-4f79-fc78-2f430cf2f7b9"
      },
      "source": [
        "tokens = nltk.word_tokenize(X_train.iloc[5000])\n",
        "tokens"
      ],
      "execution_count": null,
      "outputs": [
        {
          "output_type": "execute_result",
          "data": {
            "text/plain": [
              "['rain',\n",
              " 'dark',\n",
              " 'sky',\n",
              " 'muddy',\n",
              " 'streaks',\n",
              " 'reflect',\n",
              " 'depression',\n",
              " 'vibrant',\n",
              " 'colors',\n",
              " 'reflect',\n",
              " 'state',\n",
              " 'happiness',\n",
              " 'state',\n",
              " 'mind',\n",
              " 'clouds',\n",
              " 'wanting',\n",
              " 'see',\n",
              " 'colors',\n",
              " 'feel',\n",
              " 'pain',\n",
              " 'key',\n",
              " 'emoji',\n",
              " 'key',\n",
              " 'wan',\n",
              " 'na',\n",
              " 'fly',\n",
              " 'high',\n",
              " 'sky',\n",
              " 'emoji',\n",
              " 'sparkles']"
            ]
          },
          "metadata": {},
          "execution_count": 273
        }
      ]
    },
    {
      "cell_type": "code",
      "metadata": {
        "id": "N4dbLta7thxs"
      },
      "source": [
        "def load_glove_model(glove_file):\n",
        "  f = open(glove_file, 'r', encoding='utf-8')\n",
        "  glove_model = {}\n",
        "  \n",
        "  for line in f:\n",
        "    split_line = line.split()\n",
        "    word = split_line[0]\n",
        "    embedding = np.array([float(val) for val in split_line[1:]])\n",
        "    glove_model[word] = embedding\n",
        "  return glove_model"
      ],
      "execution_count": null,
      "outputs": []
    },
    {
      "cell_type": "code",
      "metadata": {
        "id": "-T2HoaasupBD"
      },
      "source": [
        "glove_100d=load_glove_model('glove.6B.100d.txt')"
      ],
      "execution_count": null,
      "outputs": []
    },
    {
      "cell_type": "code",
      "metadata": {
        "id": "_ycUEI4huySP"
      },
      "source": [
        "def embed_text(text):\n",
        "    lst=[]\n",
        "    lst_pad=[[0]*100]*60\n",
        "\n",
        "    words=nltk.word_tokenize(text) \n",
        "      \n",
        "    n=len(words)\n",
        "  \n",
        "    for t in words:\n",
        "        try:\n",
        "            embedded=list(glove_100d[t])\n",
        "            lst.append(embedded)\n",
        "        except:\n",
        "            lst.append(list(np.random.rand(100)))\n",
        "    \n",
        "    lst_pad[:n]=lst\n",
        "    embedding=np.array(lst_pad)\n",
        "\n",
        "    embedding=torch.from_numpy(embedding)\n",
        "    embedding=embedding.float()\n",
        "\n",
        "    return embedding"
      ],
      "execution_count": null,
      "outputs": []
    },
    {
      "cell_type": "code",
      "metadata": {
        "colab": {
          "base_uri": "https://localhost:8080/"
        },
        "id": "dKWn_yibvxkE",
        "outputId": "d0c0e076-2dfb-4e30-d5f0-edc4907d26f3"
      },
      "source": [
        "le=LabelEncoder()\n",
        "le.fit(dataset['label'])\n",
        "le.classes_\n",
        "le.inverse_transform([y_train[400]])"
      ],
      "execution_count": null,
      "outputs": [
        {
          "output_type": "execute_result",
          "data": {
            "text/plain": [
              "array([0])"
            ]
          },
          "metadata": {},
          "execution_count": 277
        }
      ]
    },
    {
      "cell_type": "markdown",
      "metadata": {
        "id": "xdo85z_QxAQ_"
      },
      "source": [
        "### Dataset Creation"
      ]
    },
    {
      "cell_type": "code",
      "metadata": {
        "id": "0JvJhKCBw5lg"
      },
      "source": [
        "class TextDataset(data.Dataset):\n",
        "    def __init__(self, text, label):\n",
        "        super(TextDataset, self).__init__()\n",
        "        \n",
        "        self.texts=list(text)\n",
        "        self.labels=label\n",
        "        \n",
        "    def __len__(self):\n",
        "        return len(self.texts)\n",
        "    \n",
        "    def __getitem__(self, idx):\n",
        "        h=self.texts[idx]\n",
        "        a=self.labels[idx]\n",
        "        \n",
        "        \n",
        "        embedding=embed_text(h)\n",
        "\n",
        "        \n",
        "        return embedding,a"
      ],
      "execution_count": null,
      "outputs": []
    },
    {
      "cell_type": "code",
      "metadata": {
        "colab": {
          "base_uri": "https://localhost:8080/"
        },
        "id": "E7HF98xVxUx_",
        "outputId": "67d86cf2-f724-4607-e887-49a50d4afc82"
      },
      "source": [
        "train_set=TextDataset(X_train,y_train)\n",
        "train_set.__getitem__(6300)"
      ],
      "execution_count": null,
      "outputs": [
        {
          "output_type": "execute_result",
          "data": {
            "text/plain": [
              "(tensor([[ 0.2600,  0.1120,  0.5006,  ..., -0.1560,  0.3137,  0.0413],\n",
              "         [ 0.2496,  0.2125,  0.5448,  ..., -0.7064,  0.5269,  1.0409],\n",
              "         [-0.1287,  0.3006,  0.8346,  ..., -0.2997,  0.4868,  0.5650],\n",
              "         ...,\n",
              "         [ 0.0000,  0.0000,  0.0000,  ...,  0.0000,  0.0000,  0.0000],\n",
              "         [ 0.0000,  0.0000,  0.0000,  ...,  0.0000,  0.0000,  0.0000],\n",
              "         [ 0.0000,  0.0000,  0.0000,  ...,  0.0000,  0.0000,  0.0000]]), 0)"
            ]
          },
          "metadata": {},
          "execution_count": 279
        }
      ]
    },
    {
      "cell_type": "code",
      "metadata": {
        "colab": {
          "base_uri": "https://localhost:8080/"
        },
        "id": "-qBgrIlLx0ts",
        "outputId": "6242ab9c-a107-403c-f02b-1cc615def22d"
      },
      "source": [
        "valid_set=TextDataset(X_valid,y_valid)\n",
        "valid_set.__getitem__(39)"
      ],
      "execution_count": null,
      "outputs": [
        {
          "output_type": "execute_result",
          "data": {
            "text/plain": [
              "(tensor([[-0.1875, -0.0596,  0.1318,  ..., -0.2103, -0.0382,  0.5438],\n",
              "         [-0.3699,  0.2273,  0.1969,  ...,  0.6699,  1.0193,  0.0992],\n",
              "         [ 0.9405,  0.1971,  0.6541,  ...,  0.6147,  0.1718,  0.0644],\n",
              "         ...,\n",
              "         [ 0.0000,  0.0000,  0.0000,  ...,  0.0000,  0.0000,  0.0000],\n",
              "         [ 0.0000,  0.0000,  0.0000,  ...,  0.0000,  0.0000,  0.0000],\n",
              "         [ 0.0000,  0.0000,  0.0000,  ...,  0.0000,  0.0000,  0.0000]]), 0)"
            ]
          },
          "metadata": {},
          "execution_count": 280
        }
      ]
    },
    {
      "cell_type": "code",
      "metadata": {
        "colab": {
          "base_uri": "https://localhost:8080/"
        },
        "id": "3XMu_z1UyE8R",
        "outputId": "3b74ef86-1f58-481c-8646-54ecb655fab9"
      },
      "source": [
        "test_set=TextDataset(X_test,y_test)\n",
        "test_set.__getitem__(22)"
      ],
      "execution_count": null,
      "outputs": [
        {
          "output_type": "execute_result",
          "data": {
            "text/plain": [
              "(tensor([[ 0.1006,  0.2041,  0.4603,  ..., -0.2502,  0.6077,  0.0705],\n",
              "         [-0.6630, -0.1970,  0.9412,  ..., -0.1044,  0.8767,  0.1021],\n",
              "         [-0.2845, -0.2391,  0.1753,  ..., -0.0854, -0.6676, -0.8471],\n",
              "         ...,\n",
              "         [ 0.0000,  0.0000,  0.0000,  ...,  0.0000,  0.0000,  0.0000],\n",
              "         [ 0.0000,  0.0000,  0.0000,  ...,  0.0000,  0.0000,  0.0000],\n",
              "         [ 0.0000,  0.0000,  0.0000,  ...,  0.0000,  0.0000,  0.0000]]), 0)"
            ]
          },
          "metadata": {},
          "execution_count": 281
        }
      ]
    },
    {
      "cell_type": "code",
      "metadata": {
        "colab": {
          "base_uri": "https://localhost:8080/"
        },
        "id": "TjX58Vr2yKcM",
        "outputId": "83e5a343-5c37-4e9d-d619-c300fb85e8d2"
      },
      "source": [
        "device=torch.device('cuda' if torch.cuda.is_available() else 'cpu')\n",
        "device"
      ],
      "execution_count": null,
      "outputs": [
        {
          "output_type": "execute_result",
          "data": {
            "text/plain": [
              "device(type='cuda')"
            ]
          },
          "metadata": {},
          "execution_count": 282
        }
      ]
    },
    {
      "cell_type": "code",
      "metadata": {
        "id": "o_eC7FtTyMf0"
      },
      "source": [
        "class BiRNN(nn.Module):\n",
        "    def __init__(self, embedding_dim, hidden_dim, output_size, num_layers, bidirectional=True):\n",
        "        super(BiRNN, self).__init__()\n",
        "        \n",
        "        self.embedding_dim=embedding_dim\n",
        "        self.hidden_dim=hidden_dim\n",
        "        self.num_layers=num_layers\n",
        "        self.output_size=output_size\n",
        "        \n",
        "        self.brnn=nn.RNN(embedding_dim, hidden_dim, num_layers, bidirectional=bidirectional, batch_first=True)\n",
        "        \n",
        "        self.fc1=nn.Linear(hidden_dim*2, 64)\n",
        "        self.fc2=nn.Linear(64,64)\n",
        "        self.final_layer=nn.Linear(64,output_size)\n",
        "        \n",
        "        self.dropout=nn.Dropout(0.5)\n",
        "        self.relu=nn.ReLU()\n",
        "        self.batchnorm1 = nn.BatchNorm1d(64)\n",
        "        self.batchnorm2 = nn.BatchNorm1d(64)\n",
        "        \n",
        "    def forward(self, embedding):\n",
        "        h0 = torch.zeros(self.num_layers*2, embedding.size(0), self.hidden_dim).to(device)\n",
        "\n",
        "        out_,hidden=self.brnn(embedding,h0)\n",
        "\n",
        "        hidden = torch.cat((hidden[-2,:,:], hidden[-1,:,:]), dim = 1)\n",
        "\n",
        "        out=self.relu(self.fc1(hidden))\n",
        "        out=self.batchnorm1(out)\n",
        "        out=self.relu(self.fc2(out))\n",
        "        out=self.batchnorm2(out)\n",
        "        out=self.dropout(out)\n",
        "        out=self.final_layer(out)\n",
        "        \n",
        "        return out"
      ],
      "execution_count": null,
      "outputs": []
    },
    {
      "cell_type": "code",
      "metadata": {
        "colab": {
          "base_uri": "https://localhost:8080/"
        },
        "id": "39EOVbVnySNr",
        "outputId": "e5f01bd0-0af4-4ba9-f1fd-707cb1d3c07f"
      },
      "source": [
        "model=BiRNN(embedding_dim=100,hidden_dim=64,output_size=1,num_layers=3).to(device)\n",
        "model"
      ],
      "execution_count": null,
      "outputs": [
        {
          "output_type": "execute_result",
          "data": {
            "text/plain": [
              "BiRNN(\n",
              "  (brnn): RNN(100, 64, num_layers=3, batch_first=True, bidirectional=True)\n",
              "  (fc1): Linear(in_features=128, out_features=64, bias=True)\n",
              "  (fc2): Linear(in_features=64, out_features=64, bias=True)\n",
              "  (final_layer): Linear(in_features=64, out_features=1, bias=True)\n",
              "  (dropout): Dropout(p=0.5, inplace=False)\n",
              "  (relu): ReLU()\n",
              "  (batchnorm1): BatchNorm1d(64, eps=1e-05, momentum=0.1, affine=True, track_running_stats=True)\n",
              "  (batchnorm2): BatchNorm1d(64, eps=1e-05, momentum=0.1, affine=True, track_running_stats=True)\n",
              ")"
            ]
          },
          "metadata": {},
          "execution_count": 284
        }
      ]
    },
    {
      "cell_type": "markdown",
      "metadata": {
        "id": "8z-E9xk8Bx9u"
      },
      "source": [
        "### Hyperparameters"
      ]
    },
    {
      "cell_type": "code",
      "metadata": {
        "id": "h0Q2-ZDMBz7g"
      },
      "source": [
        "learning_rate=0.001\n",
        "batch=256\n",
        "epoch=10\n",
        "\n",
        "optimizer=torch.optim.Adam(model.parameters(), lr=learning_rate)\n",
        "criterion=nn.BCEWithLogitsLoss()"
      ],
      "execution_count": null,
      "outputs": []
    },
    {
      "cell_type": "markdown",
      "metadata": {
        "id": "-xPP_WuPB8cQ"
      },
      "source": [
        "### Model Training"
      ]
    },
    {
      "cell_type": "code",
      "metadata": {
        "id": "tFCyNdHVBu_x"
      },
      "source": [
        "train_loader=DataLoader(dataset=train_set, batch_size=batch, shuffle=True)\n",
        "valid_loader=DataLoader(dataset=valid_set, batch_size=batch, shuffle=True)\n",
        "test_loader=DataLoader(dataset=test_set, batch_size=batch)"
      ],
      "execution_count": null,
      "outputs": []
    },
    {
      "cell_type": "code",
      "metadata": {
        "colab": {
          "base_uri": "https://localhost:8080/"
        },
        "id": "z9jPm7AaCBck",
        "outputId": "990bc781-11be-4b06-85da-f4335fce5ce0"
      },
      "source": [
        "train_loss=[]\n",
        "train_acc=[]\n",
        "valid_loss=[]\n",
        "valid_acc=[]\n",
        "\n",
        "print('<-----------------Start Training------------------->')\n",
        "for ep in range(epoch):\n",
        "    model.train()\n",
        "    num_updates, accuracy, loss_=0.0,0.0,0.0\n",
        "    v_acc, v_loss, v_count=0.0,0.0,0.0\n",
        "    t_acc=[]\n",
        "    p_acc=[]\n",
        "\n",
        "    for i,n in train_loader:\n",
        "        embedding=i.to(device)\n",
        "        label=n.to(device)\n",
        "\n",
        "        optimizer.zero_grad()\n",
        "        output=model(embedding)\n",
        "        y_pred=torch.round(torch.sigmoid(output)).squeeze()\n",
        "\n",
        "        loss=criterion(output,label.unsqueeze(1).float())\n",
        "        loss.backward()\n",
        "        optimizer.step()\n",
        "        \n",
        "        accuracy+=torch.sum(y_pred==label)\n",
        "        loss_+=loss.item()\n",
        "\n",
        "        t_acc.extend(label)\n",
        "        p_acc.extend(y_pred)\n",
        "        \n",
        "        num_updates+=1\n",
        "        \n",
        "    train_loss.append(loss_/(num_updates))\n",
        "\n",
        "    for j in range(len(t_acc)):\n",
        "      t_acc[j]=t_acc[j].item()\n",
        "      p_acc[j]=p_acc[j].item()\n",
        "\n",
        "    train_acc.append(accuracy_score(t_acc,p_acc))\n",
        "    \n",
        "    print('Epoch {}--> Loss: {}   Accuracy: {}'.format(ep,(loss_/(num_updates)),(accuracy_score(t_acc,p_acc))))\n",
        "    \n",
        "    t_acc=[]\n",
        "    p_acc=[]\n",
        "    with torch.no_grad():\n",
        "        model.eval()\n",
        "        for embedd, ans in valid_loader:\n",
        "            embedd=embedd.to(device)\n",
        "            ans=ans.to(device)\n",
        "            op=model(embedd)\n",
        "            ypred=torch.round(torch.sigmoid(op)).squeeze()\n",
        "\n",
        "            l=criterion(op,ans.unsqueeze(1).float())\n",
        "\n",
        "            v_acc+=torch.sum(ypred==ans)\n",
        "            v_loss+=l.item()\n",
        "\n",
        "            t_acc.extend(ans)\n",
        "            p_acc.extend(ypred)\n",
        "\n",
        "            v_count+=1\n",
        "    \n",
        "    valid_loss.append(v_loss/(v_count))\n",
        "\n",
        "    for j in range(len(t_acc)):\n",
        "      t_acc[j]=t_acc[j].item()\n",
        "      p_acc[j]=p_acc[j].item()\n",
        "\n",
        "    valid_acc.append(accuracy_score(t_acc,p_acc))\n",
        "    \n",
        "    print('\\t\\tValidation Loss:  {}  Validation Accuracy:  {}'.format((v_loss/(v_count)),(accuracy_score(t_acc,p_acc))))\n",
        "        \n",
        "print('<-----------------Finished Training------------------->')"
      ],
      "execution_count": null,
      "outputs": [
        {
          "output_type": "stream",
          "name": "stdout",
          "text": [
            "<-----------------Start Training------------------->\n",
            "Epoch 0--> Loss: 0.4754026268537228   Accuracy: 0.7838577291381669\n",
            "\t\tValidation Loss:  0.24211934208869934  Validation Accuracy:  0.9586626139817629\n",
            "Epoch 1--> Loss: 0.14534789724991873   Accuracy: 0.9799361605107159\n",
            "\t\tValidation Loss:  0.03325136564671993  Validation Accuracy:  0.9927051671732523\n",
            "Epoch 2--> Loss: 0.058424399520915285   Accuracy: 0.9930080559355525\n",
            "\t\tValidation Loss:  0.020449448776032244  Validation Accuracy:  0.9957446808510638\n",
            "Epoch 3--> Loss: 0.04984016071718473   Accuracy: 0.9928560571515428\n",
            "\t\tValidation Loss:  0.023599151521921158  Validation Accuracy:  0.9951367781155015\n",
            "Epoch 4--> Loss: 0.03522998771558587   Accuracy: 0.9949840401276789\n",
            "\t\tValidation Loss:  0.015280439584915127  Validation Accuracy:  0.9975683890577508\n",
            "Epoch 5--> Loss: 0.025200148327992514   Accuracy: 0.9958960328317373\n",
            "\t\tValidation Loss:  0.025954260091696466  Validation Accuracy:  0.9957446808510638\n",
            "Epoch 6--> Loss: 0.025226414364834245   Accuracy: 0.9955920352637179\n",
            "\t\tValidation Loss:  0.028323929025126354  Validation Accuracy:  0.9951367781155015\n",
            "Epoch 7--> Loss: 0.02736524515785277   Accuracy: 0.9958960328317373\n",
            "\t\tValidation Loss:  0.033865250181406736  Validation Accuracy:  0.993920972644377\n",
            "Epoch 8--> Loss: 0.024027263888945945   Accuracy: 0.9965040279677763\n",
            "\t\tValidation Loss:  0.010138320437233363  Validation Accuracy:  0.998176291793313\n",
            "Epoch 9--> Loss: 0.023031583252864387   Accuracy: 0.9969600243198055\n",
            "\t\tValidation Loss:  0.02574040907035981  Validation Accuracy:  0.9963525835866262\n",
            "<-----------------Finished Training------------------->\n"
          ]
        }
      ]
    },
    {
      "cell_type": "code",
      "metadata": {
        "colab": {
          "base_uri": "https://localhost:8080/",
          "height": 315
        },
        "id": "PAr5xKTyZICI",
        "outputId": "96ab18a2-28f3-41c5-f2bd-7732a3db771f"
      },
      "source": [
        "import matplotlib.pyplot as plt\n",
        "epochs_=[]\n",
        "for i in range(10):\n",
        "    epochs_.append(i)\n",
        "plt.plot(epochs_,train_loss,label='Train')\n",
        "plt.plot(epochs_,valid_loss,label='Valid')\n",
        "plt.xlabel('Epochs')\n",
        "plt.ylabel('Loss')\n",
        "plt.title('Train-Valid Loss Plot')\n",
        "plt.legend()\n",
        "plt.show()"
      ],
      "execution_count": null,
      "outputs": [
        {
          "output_type": "display_data",
          "data": {
            "image/png": "[encoded data removed]",
            "text/plain": [
              "<Figure size 432x288 with 1 Axes>"
            ]
          },
          "metadata": {}
        }
      ]
    },
    {
      "cell_type": "code",
      "metadata": {
        "colab": {
          "base_uri": "https://localhost:8080/",
          "height": 315
        },
        "id": "ZPWndP2ZZXvQ",
        "outputId": "7723f14b-eb4e-4fc0-f9f7-b1b5c7b9fe43"
      },
      "source": [
        "import matplotlib.pyplot as plt\n",
        "epochs_=[]\n",
        "for i in range(10):\n",
        "    epochs_.append(i)\n",
        "plt.plot(epochs_,train_acc,label='Train')\n",
        "plt.plot(epochs_,valid_acc,label='Valid')\n",
        "plt.xlabel('Epochs')\n",
        "plt.ylabel('Accuracy')\n",
        "plt.title('Train-Valid Accuracy Plot')\n",
        "plt.legend()\n",
        "plt.show()"
      ],
      "execution_count": null,
      "outputs": [
        {
          "output_type": "display_data",
          "data": {
            "image/png": "[encoded data removed]",
            "text/plain": [
              "<Figure size 432x288 with 1 Axes>"
            ]
          },
          "metadata": {}
        }
      ]
    },
    {
      "cell_type": "markdown",
      "metadata": {
        "id": "weF185iS_PtZ"
      },
      "source": [
        "### Model Testing"
      ]
    },
    {
      "cell_type": "code",
      "metadata": {
        "id": "GGofRVpj-lhg"
      },
      "source": [
        "test_labels=[]\n",
        "predicted_labels=[]\n",
        "\n",
        "with torch.no_grad():\n",
        "    test_acc, test_loss, test_count=0.0,0.0,0.0\n",
        "    model.eval()\n",
        "    for embedd, ans in test_loader:\n",
        "        embedd=embedd.to(device)\n",
        "        ans=ans.to(device)\n",
        "        op=model(embedd)\n",
        "        \n",
        "        ypred=torch.round(torch.sigmoid(op)).squeeze()\n",
        "\n",
        "        test_labels.extend(ans)\n",
        "        predicted_labels.extend(ypred)\n",
        "\n",
        "        l=criterion(op,ans.unsqueeze(1).float())\n",
        "\n",
        "        test_acc+=torch.sum(ypred==ans)\n",
        "        test_loss+=l.item()\n",
        "\n",
        "        test_count+=1\n",
        "\n",
        "    test_loss_score=test_loss/(test_count)"
      ],
      "execution_count": null,
      "outputs": []
    },
    {
      "cell_type": "markdown",
      "metadata": {
        "id": "XRG3RWN-_Sx7"
      },
      "source": [
        "### Result Analysis"
      ]
    },
    {
      "cell_type": "code",
      "metadata": {
        "colab": {
          "base_uri": "https://localhost:8080/"
        },
        "id": "6mMVmQ0F_ElV",
        "outputId": "3d6d66cf-8b72-42cf-8516-7cd1f7e4db97"
      },
      "source": [
        "test_seq_labels=[]\n",
        "for k in range(len(test_labels)):\n",
        "    test_seq_labels.append(test_labels[k].to(device).item())\n",
        "\n",
        "pred_seq_labels=[]\n",
        "for k in range(len(predicted_labels)):\n",
        "    pred_seq_labels.append(predicted_labels[k].to(device).item())\n",
        "\n",
        "print('\\033[1m Test Loss:  {0:0.4f}  Test Accuracy:  {1:0.4f} \\033[0;0m'.format((test_loss_score),(accuracy_score(test_seq_labels,pred_seq_labels))))"
      ],
      "execution_count": null,
      "outputs": [
        {
          "output_type": "stream",
          "name": "stdout",
          "text": [
            "\u001b[1m Test Loss:  0.0355  Test Accuracy:  0.9961 \u001b[0;0m\n"
          ]
        }
      ]
    },
    {
      "cell_type": "code",
      "metadata": {
        "colab": {
          "base_uri": "https://localhost:8080/",
          "height": 411
        },
        "id": "5TZ50x2h_NBh",
        "outputId": "985b29a3-af4b-4806-8c73-74126ebf0ce6"
      },
      "source": [
        "cm=confusion_matrix(test_seq_labels, pred_seq_labels)\n",
        "cm_df=pd.DataFrame(cm, index=['0','1'],\n",
        "                  columns=['0','1'])\n",
        "\n",
        "plt.figure(figsize=(7,5))\n",
        "sns.heatmap(cm_df, annot=True,fmt='g',cmap=\"twilight_shifted_r\")\n",
        "plt.title('BiRNN \\nAccuracy: {0:.4f}\\n'.format(accuracy_score(test_seq_labels,pred_seq_labels)*100))\n",
        "plt.xlabel('Predicted Label')\n",
        "plt.ylabel('Actual Label')\n",
        "plt.show()"
      ],
      "execution_count": null,
      "outputs": [
        {
          "output_type": "display_data",
          "data": {
            "image/png": "[encoded data removed]",
            "text/plain": [
              "<Figure size 504x360 with 2 Axes>"
            ]
          },
          "metadata": {}
        }
      ]
    },
    {
      "cell_type": "code",
      "metadata": {
        "colab": {
          "base_uri": "https://localhost:8080/",
          "height": 204
        },
        "id": "aNVsbSJ__uMM",
        "outputId": "43cf6890-6eb9-4d27-8b37-0663d65d7199"
      },
      "source": [
        "report = pd.DataFrame(classification_report(y_true = test_seq_labels, y_pred = pred_seq_labels, output_dict=True)).transpose()\n",
        "report = report.rename(index={'0': '0','1':'1'})\n",
        "report[['precision','recall','f1-score']]=report[['precision','recall','f1-score']].apply(lambda x: round(x*100,2))\n",
        "report"
      ],
      "execution_count": null,
      "outputs": [
        {
          "output_type": "execute_result",
          "data": {
            "text/html": [
              "<div>\n",
              "<style scoped>\n",
              "    .dataframe tbody tr th:only-of-type {\n",
              "        vertical-align: middle;\n",
              "    }\n",
              "\n",
              "    .dataframe tbody tr th {\n",
              "        vertical-align: top;\n",
              "    }\n",
              "\n",
              "    .dataframe thead th {\n",
              "        text-align: right;\n",
              "    }\n",
              "</style>\n",
              "<table border=\"1\" class=\"dataframe\">\n",
              "  <thead>\n",
              "    <tr style=\"text-align: right;\">\n",
              "      <th></th>\n",
              "      <th>precision</th>\n",
              "      <th>recall</th>\n",
              "      <th>f1-score</th>\n",
              "      <th>support</th>\n",
              "    </tr>\n",
              "  </thead>\n",
              "  <tbody>\n",
              "    <tr>\n",
              "      <th>0</th>\n",
              "      <td>99.69</td>\n",
              "      <td>99.81</td>\n",
              "      <td>99.75</td>\n",
              "      <td>1591.000000</td>\n",
              "    </tr>\n",
              "    <tr>\n",
              "      <th>1</th>\n",
              "      <td>99.35</td>\n",
              "      <td>98.92</td>\n",
              "      <td>99.14</td>\n",
              "      <td>465.000000</td>\n",
              "    </tr>\n",
              "    <tr>\n",
              "      <th>accuracy</th>\n",
              "      <td>99.61</td>\n",
              "      <td>99.61</td>\n",
              "      <td>99.61</td>\n",
              "      <td>0.996109</td>\n",
              "    </tr>\n",
              "    <tr>\n",
              "      <th>macro avg</th>\n",
              "      <td>99.52</td>\n",
              "      <td>99.37</td>\n",
              "      <td>99.44</td>\n",
              "      <td>2056.000000</td>\n",
              "    </tr>\n",
              "    <tr>\n",
              "      <th>weighted avg</th>\n",
              "      <td>99.61</td>\n",
              "      <td>99.61</td>\n",
              "      <td>99.61</td>\n",
              "      <td>2056.000000</td>\n",
              "    </tr>\n",
              "  </tbody>\n",
              "</table>\n",
              "</div>"
            ],
            "text/plain": [
              "              precision  recall  f1-score      support\n",
              "0                 99.69   99.81     99.75  1591.000000\n",
              "1                 99.35   98.92     99.14   465.000000\n",
              "accuracy          99.61   99.61     99.61     0.996109\n",
              "macro avg         99.52   99.37     99.44  2056.000000\n",
              "weighted avg      99.61   99.61     99.61  2056.000000"
            ]
          },
          "metadata": {},
          "execution_count": 293
        }
      ]
    }
  ]
}